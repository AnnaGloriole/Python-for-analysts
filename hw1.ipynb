{
 "cells": [
  {
   "cell_type": "markdown",
   "id": "4e1d0943",
   "metadata": {},
   "source": [
    "## Условие 2:\n",
    "На складе лежат разные фрукты в разном количестве.\n",
    "Нужно написать функцию, которая на вход принимает любое количество названий фруктов и их количество, а возвращает общее количество фруктов на складе"
   ]
  },
  {
   "cell_type": "markdown",
   "id": "511bec93",
   "metadata": {},
   "source": [
    "### Вариант 1"
   ]
  },
  {
   "cell_type": "code",
   "execution_count": 47,
   "id": "cfcb25ce",
   "metadata": {},
   "outputs": [],
   "source": [
    "def fruits(**kwargs):    \n",
    "    totalFruits = sum(kwargs.values())    \n",
    "    return totalFruits"
   ]
  },
  {
   "cell_type": "code",
   "execution_count": 49,
   "id": "58e2b322",
   "metadata": {},
   "outputs": [
    {
     "name": "stdout",
     "output_type": "stream",
     "text": [
      "107\n"
     ]
    }
   ],
   "source": [
    "print(fruits(apples = 70, mango = 35, bananas = 2))"
   ]
  },
  {
   "cell_type": "markdown",
   "id": "7914cf37",
   "metadata": {},
   "source": [
    "### Вариант 2"
   ]
  },
  {
   "cell_type": "code",
   "execution_count": 65,
   "id": "ce3b0e9e",
   "metadata": {},
   "outputs": [],
   "source": [
    "fruits = {'bananas': 3, 'pears': 77, 'apples': 809}\n",
    "def total_fruits(dict1: dict): \n",
    "    total = sum(dict1.values())\n",
    "    return total"
   ]
  },
  {
   "cell_type": "code",
   "execution_count": 66,
   "id": "54169193",
   "metadata": {},
   "outputs": [
    {
     "name": "stdout",
     "output_type": "stream",
     "text": [
      "889\n"
     ]
    }
   ],
   "source": [
    "print(total_fruits(fruits))"
   ]
  },
  {
   "cell_type": "markdown",
   "id": "d11f1f60",
   "metadata": {},
   "source": [
    "## Условие 3:\n",
    "Дан список с затратами на рекламу. Но в данных есть ошибки, некоторые затраты имеют отрицательную величину. Удалите такие значения из списка и посчитайте суммарные затраты\n",
    "Используйте list comprehensions"
   ]
  },
  {
   "cell_type": "code",
   "execution_count": 29,
   "id": "a5b0177f",
   "metadata": {},
   "outputs": [],
   "source": [
    "list_1 = [100, 125, -90, 345, 655, -1, 0, 200]\n"
   ]
  },
  {
   "cell_type": "code",
   "execution_count": 63,
   "id": "df368744",
   "metadata": {},
   "outputs": [
    {
     "name": "stdout",
     "output_type": "stream",
     "text": [
      "[100, 125, 345, 655, 0, 200]\n"
     ]
    }
   ],
   "source": [
    "list_2 = [i for i in list_1  if i >= 0]\n",
    "print(list_2)"
   ]
  },
  {
   "cell_type": "code",
   "execution_count": 64,
   "id": "2cc071d0",
   "metadata": {},
   "outputs": [
    {
     "data": {
      "text/plain": [
       "1425"
      ]
     },
     "execution_count": 64,
     "metadata": {},
     "output_type": "execute_result"
    }
   ],
   "source": [
    "sum(list_2)"
   ]
  },
  {
   "cell_type": "markdown",
   "id": "897bf236",
   "metadata": {},
   "source": [
    "## Условие 4.1:\n",
    "Даны два списка.\n",
    "Дата покупки\n",
    "Суммы покупок по датам\n",
    "\n",
    "### 4.1 Найдите, какая выручка у компании в ноябре\n",
    "Используйте list comprehensions\n",
    "### 4.2 Найдите выручку компании в зависимости от месяца\n",
    "Для этого напишите функцию, которая на вход принимает список с датами и список с выручкой, а на выходе словарь, где ключи - это месяцы, а значения - это выручка.\n",
    "Используйте аннотирование типов."
   ]
  },
  {
   "cell_type": "markdown",
   "id": "d2f9b42a",
   "metadata": {},
   "source": [
    "### 4.1"
   ]
  },
  {
   "cell_type": "code",
   "execution_count": 71,
   "id": "0e642c87",
   "metadata": {},
   "outputs": [],
   "source": [
    "date = ['2021-09-14', '2021-12-15', '2021-09-08', '2021-12-05', '2021-10-09', '2021-09-30', '2021-12-22', '2021-11-29', '2021-12-24', '2021-11-26', '2021-10-27', '2021-12-18', '2021-11-09', '2021-11-23', '2021-09-27', '2021-10-02', '2021-12-27', '2021-09-20', '2021-12-13', '2021-11-01', '2021-11-09', '2021-12-06', '2021-12-08', '2021-10-09', '2021-10-31', '2021-09-30', '2021-11-09', '2021-12-13', '2021-10-26', '2021-12-09']\n",
    "price = [1270, 8413, 9028, 3703, 5739, 4095, 295, 4944, 5723, 3701, 4471, 651, 7037, 4274, 6275, 4988, 6930, 2971, 6592, 2004, 2822, 519, 3406, 2732, 5015, 2008, 316, 6333, 5700, 2887]"
   ]
  },
  {
   "cell_type": "code",
   "execution_count": 84,
   "id": "dfbc30b1",
   "metadata": {},
   "outputs": [
    {
     "name": "stdout",
     "output_type": "stream",
     "text": [
      "25098\n"
     ]
    }
   ],
   "source": [
    "print(sum([price[i] for i in range(len(date)-1) if \"-11-\" in date[i]]))"
   ]
  },
  {
   "cell_type": "markdown",
   "id": "3788356e",
   "metadata": {},
   "source": [
    "### 4.2"
   ]
  },
  {
   "cell_type": "code",
   "execution_count": 92,
   "id": "2c188cf2",
   "metadata": {},
   "outputs": [],
   "source": [
    "def profits(data1: list, data2: list) -> dict:   \n",
    "    profits = {}    \n",
    "    for i in range(len(data1)):        \n",
    "        if date[i].split('-')[1] in profits.keys():\n",
    "            profits[date[i].split('-')[1]] += price[i]\n",
    "        else:\n",
    "            profits[date[i].split('-')[1]] = price[i]            \n",
    "    return profits"
   ]
  },
  {
   "cell_type": "code",
   "execution_count": 93,
   "id": "7d5c8257",
   "metadata": {},
   "outputs": [
    {
     "name": "stdout",
     "output_type": "stream",
     "text": [
      "{'09': 25647, '12': 45452, '10': 28645, '11': 25098}\n"
     ]
    }
   ],
   "source": [
    "print(profits(date, price))"
   ]
  }
 ],
 "metadata": {
  "kernelspec": {
   "display_name": "Python 3 (ipykernel)",
   "language": "python",
   "name": "python3"
  },
  "language_info": {
   "codemirror_mode": {
    "name": "ipython",
    "version": 3
   },
   "file_extension": ".py",
   "mimetype": "text/x-python",
   "name": "python",
   "nbconvert_exporter": "python",
   "pygments_lexer": "ipython3",
   "version": "3.9.13"
  }
 },
 "nbformat": 4,
 "nbformat_minor": 5
}
